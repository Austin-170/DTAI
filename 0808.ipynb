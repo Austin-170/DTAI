{
 "cells": [
  {
   "cell_type": "code",
   "execution_count": 13,
   "metadata": {},
   "outputs": [
    {
     "name": "stdout",
     "output_type": "stream",
     "text": [
      "上底長度為:3 下底長度為:4 面積為10.5\n"
     ]
    }
   ],
   "source": [
    "up=int(input(\"請輸入上底\"))\n",
    "down=int(input(\"請輸入下底\"))\n",
    "high=int(input(\"請輸入高\"))\n",
    "area=(up+down)*high/2\n",
    "#print(\"上底長度為:\",up,\"下底長度為:\",down,\"面積為\",area)\n",
    "print(\"上底長度為:\"+str(up)+\" \"+\"下底長度為:\"+str(down)+\" \"+\"面積為\"+str(area))\n"
   ]
  },
  {
   "cell_type": "code",
   "execution_count": 14,
   "metadata": {},
   "outputs": [
    {
     "name": "stdout",
     "output_type": "stream",
     "text": [
      "24.691358024691358\n"
     ]
    }
   ],
   "source": [
    "wight=int(input(\"請輸入體重\"))\n",
    "high=int(input(\"請輸入身高\"))\n",
    "BMI=wight/((high/100)**2)\n",
    "print(BMI)"
   ]
  },
  {
   "cell_type": "code",
   "execution_count": 15,
   "metadata": {},
   "outputs": [
    {
     "name": "stdout",
     "output_type": "stream",
     "text": [
      "11261.62419264\n"
     ]
    }
   ],
   "source": [
    "mon=int(input(\"輸入本金\"))\n",
    "all=mon*(1.02)**6\n",
    "print(all)"
   ]
  },
  {
   "cell_type": "code",
   "execution_count": 24,
   "metadata": {},
   "outputs": [
    {
     "name": "stdout",
     "output_type": "stream",
     "text": [
      "123 123 123 \n"
     ]
    }
   ],
   "source": [
    "n=str()\n",
    "a=input()\n",
    "d=0\n",
    "while d<3:\n",
    "    n=n+a+(\" \")\n",
    "    d+=1\n",
    "print(n)"
   ]
  },
  {
   "cell_type": "code",
   "execution_count": 17,
   "metadata": {},
   "outputs": [
    {
     "name": "stdout",
     "output_type": "stream",
     "text": [
      "banana orange apple \n"
     ]
    }
   ],
   "source": [
    "n=str()\n",
    "a=[\"apple\",\"orange\",\"banana\"]\n",
    "b=2\n",
    "while b>=0:\n",
    "    n = n + a[b] + (\" \")\n",
    "    b-=1\n",
    "print(n)"
   ]
  },
  {
   "cell_type": "code",
   "execution_count": 18,
   "metadata": {},
   "outputs": [
    {
     "name": "stdout",
     "output_type": "stream",
     "text": [
      "5050\n"
     ]
    }
   ],
   "source": [
    "sum=input()\n",
    "a=0\n",
    "b=0\n",
    "for i in range(101):\n",
    "    a+=b\n",
    "    b+=1\n",
    "print(a)"
   ]
  },
  {
   "cell_type": "code",
   "execution_count": 22,
   "metadata": {},
   "outputs": [
    {
     "name": "stdout",
     "output_type": "stream",
     "text": [
      "15\n",
      "10\n",
      "50\n",
      "10.0\n"
     ]
    }
   ],
   "source": [
    "i=10\n",
    "i+=5\n",
    "print(i)\n",
    "i-=5\n",
    "print(i)\n",
    "i*=5\n",
    "print(i)\n",
    "i/=5\n",
    "print(i)\n"
   ]
  },
  {
   "cell_type": "code",
   "execution_count": 28,
   "metadata": {},
   "outputs": [
    {
     "name": "stdout",
     "output_type": "stream",
     "text": [
      "在abc下解1=?\n",
      "-1.0\n"
     ]
    }
   ],
   "source": [
    "a,b,c=2,4,2\n",
    "print(\"在abc下解1=?\")\n",
    "reault=(-b+(b**2-a*c*4)**0.5)/(a*2)\n",
    "print(reault)"
   ]
  },
  {
   "cell_type": "code",
   "execution_count": 36,
   "metadata": {},
   "outputs": [
    {
     "name": "stdout",
     "output_type": "stream",
     "text": [
      "在abc下解1=?\n",
      "false\n"
     ]
    }
   ],
   "source": [
    "a,b,c=5,4,1\n",
    "print(\"在abc下解1=?\")\n",
    "p=(b**2-a*c*4)\n",
    "if p>0:\n",
    "    reasult=-b+(p)**0.5/(a*2)\n",
    "    print(reault)\n",
    "else:\n",
    "    print(\"false\")"
   ]
  },
  {
   "cell_type": "code",
   "execution_count": 37,
   "metadata": {},
   "outputs": [
    {
     "name": "stdout",
     "output_type": "stream",
     "text": [
      "Radius=5.00\n",
      "circumference=31.42\n",
      "Area=78.54\n"
     ]
    }
   ],
   "source": [
    "import math\n",
    "Radius=eval(input())\n",
    "pi=math.pi\n",
    "circumference=(Radius+Radius)*pi\n",
    "Area=Radius*Radius*pi\n",
    "print(\"Radius={:.2f}\".format(Radius))\n",
    "print(\"circumference={:.2f}\".format(circumference))\n",
    "print(\"Area={:.2f}\".format(Area))\n"
   ]
  },
  {
   "cell_type": "code",
   "execution_count": 48,
   "metadata": {},
   "outputs": [
    {
     "name": "stdout",
     "output_type": "stream",
     "text": [
      "Input Error\n"
     ]
    }
   ],
   "source": [
    "number=int(input(\"輸入數字\"))\n",
    "\n",
    "if number<0:\n",
    "    print(\"Input arror\")\n",
    "elif number%2==0:\n",
    "    print(number,\"is even\")\n",
    "else:\n",
    "    print(number,\"is odd\")"
   ]
  },
  {
   "cell_type": "code",
   "execution_count": 61,
   "metadata": {},
   "outputs": [
    {
     "name": "stdout",
     "output_type": "stream",
     "text": [
      "240 yuan\n"
     ]
    }
   ],
   "source": [
    "mile=int(input(\"輸入里程數\"))\n",
    "if mile==0:\n",
    "    print(\"0 yuan\")\n",
    "elif 0<mile<6:\n",
    "    print(\"240 yuan\")\n",
    "elif mile>=6:\n",
    "    print(240+40*(mile-5),\"yuan\")\n",
    "else:\n",
    "    print(\"Input Error\")"
   ]
  },
  {
   "cell_type": "code",
   "execution_count": 62,
   "metadata": {},
   "outputs": [
    {
     "name": "stdout",
     "output_type": "stream",
     "text": [
      "Input Error\n"
     ]
    }
   ],
   "source": [
    "number=int(input())\n",
    "if 1<=number<=3:\n",
    "    print(number,\"is spring\")\n",
    "elif 4<=number<=6:\n",
    "    print(number,\"is summer\")\n",
    "elif 7<=number<=9:\n",
    "    print(number,\"is autumn\")\n",
    "elif 9<=number<=12:\n",
    "    print(number,\"is winter\")\n",
    "else:\n",
    "    print(\"Input Error\")"
   ]
  },
  {
   "cell_type": "code",
   "execution_count": 72,
   "metadata": {},
   "outputs": [
    {
     "name": "stdout",
     "output_type": "stream",
     "text": [
      "115927.40743\n"
     ]
    }
   ],
   "source": [
    "a=100000\n",
    "n=int(input())\n",
    "if n>=0:\n",
    "    print(a*((1+0.03)**n))\n",
    "else:\n",
    "    print(\"Input Error\")"
   ]
  },
  {
   "cell_type": "code",
   "execution_count": 73,
   "metadata": {},
   "outputs": [
    {
     "name": "stdout",
     "output_type": "stream",
     "text": [
      "2\n"
     ]
    }
   ],
   "source": [
    "a,b,c=input().split()\n",
    "int_a=int(a)\n",
    "int_b=int(b)\n",
    "int_c=int(c)\n",
    "min=int_a\n",
    "if int_b<=min:\n",
    "    min=int_b\n",
    "if int_c<=min:\n",
    "    min=int_c\n",
    "print(min)"
   ]
  },
  {
   "cell_type": "code",
   "execution_count": null,
   "metadata": {},
   "outputs": [],
   "source": [
    "a,b,c=input().split()\n",
    "int_a=float(a)\n",
    "int_b=float(b)\n",
    "int_c=float(c)\n",
    "max=int_a\n",
    "if int_b>=max:\n",
    "    max=int_b\n",
    "if int_c>=max:\n",
    "    max=int_c\n",
    "print(max)"
   ]
  }
 ],
 "metadata": {
  "kernelspec": {
   "display_name": "Python 3",
   "language": "python",
   "name": "python3"
  },
  "language_info": {
   "codemirror_mode": {
    "name": "ipython",
    "version": 3
   },
   "file_extension": ".py",
   "mimetype": "text/x-python",
   "name": "python",
   "nbconvert_exporter": "python",
   "pygments_lexer": "ipython3",
   "version": "3.12.4"
  }
 },
 "nbformat": 4,
 "nbformat_minor": 2
}
