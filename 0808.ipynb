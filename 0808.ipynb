{
 "cells": [
  {
   "cell_type": "code",
   "execution_count": 13,
   "metadata": {},
   "outputs": [
    {
     "name": "stdout",
     "output_type": "stream",
     "text": [
      "上底長度為:3 下底長度為:4 面積為10.5\n"
     ]
    }
   ],
   "source": [
    "up=int(input(\"請輸入上底\"))\n",
    "down=int(input(\"請輸入下底\"))\n",
    "high=int(input(\"請輸入高\"))\n",
    "area=(up+down)*high/2\n",
    "#print(\"上底長度為:\",up,\"下底長度為:\",down,\"面積為\",area)\n",
    "print(\"上底長度為:\"+str(up)+\" \"+\"下底長度為:\"+str(down)+\" \"+\"面積為\"+str(area))\n"
   ]
  },
  {
   "cell_type": "code",
   "execution_count": 14,
   "metadata": {},
   "outputs": [
    {
     "name": "stdout",
     "output_type": "stream",
     "text": [
      "24.691358024691358\n"
     ]
    }
   ],
   "source": [
    "wight=int(input(\"請輸入體重\"))\n",
    "high=int(input(\"請輸入身高\"))\n",
    "BMI=wight/((high/100)**2)\n",
    "print(BMI)"
   ]
  },
  {
   "cell_type": "code",
   "execution_count": 15,
   "metadata": {},
   "outputs": [
    {
     "name": "stdout",
     "output_type": "stream",
     "text": [
      "11261.62419264\n"
     ]
    }
   ],
   "source": [
    "mon=int(input(\"輸入本金\"))\n",
    "all=mon*(1.02)**6\n",
    "print(all)"
   ]
  },
  {
   "cell_type": "code",
   "execution_count": 16,
   "metadata": {},
   "outputs": [
    {
     "name": "stdout",
     "output_type": "stream",
     "text": [
      "   \n"
     ]
    }
   ],
   "source": [
    "n=str()\n",
    "a=input()\n",
    "d=0\n",
    "while d<3:\n",
    "    n=n+a+(\" \")\n",
    "    d+=1\n",
    "print(n)"
   ]
  },
  {
   "cell_type": "code",
   "execution_count": 17,
   "metadata": {},
   "outputs": [
    {
     "name": "stdout",
     "output_type": "stream",
     "text": [
      "banana orange apple \n"
     ]
    }
   ],
   "source": [
    "n=str()\n",
    "a=[\"apple\",\"orange\",\"banana\"]\n",
    "b=2\n",
    "while b>=0:\n",
    "    n = n + a[b] + (\" \")\n",
    "    b-=1\n",
    "print(n)"
   ]
  },
  {
   "cell_type": "code",
   "execution_count": 18,
   "metadata": {},
   "outputs": [
    {
     "name": "stdout",
     "output_type": "stream",
     "text": [
      "5050\n"
     ]
    }
   ],
   "source": [
    "sum=input()\n",
    "a=0\n",
    "b=0\n",
    "for i in range(101):\n",
    "    a+=b\n",
    "    b+=1\n",
    "print(a)"
   ]
  },
  {
   "cell_type": "code",
   "execution_count": 22,
   "metadata": {},
   "outputs": [
    {
     "name": "stdout",
     "output_type": "stream",
     "text": [
      "15\n",
      "10\n",
      "50\n",
      "10.0\n"
     ]
    }
   ],
   "source": [
    "i=10\n",
    "i+=5\n",
    "print(i)\n",
    "i-=5\n",
    "print(i)\n",
    "i*=5\n",
    "print(i)\n",
    "i/=5\n",
    "print(i)\n"
   ]
  },
  {
   "cell_type": "code",
   "execution_count": null,
   "metadata": {},
   "outputs": [],
   "source": []
  }
 ],
 "metadata": {
  "kernelspec": {
   "display_name": "Python 3",
   "language": "python",
   "name": "python3"
  },
  "language_info": {
   "codemirror_mode": {
    "name": "ipython",
    "version": 3
   },
   "file_extension": ".py",
   "mimetype": "text/x-python",
   "name": "python",
   "nbconvert_exporter": "python",
   "pygments_lexer": "ipython3",
   "version": "3.12.4"
  }
 },
 "nbformat": 4,
 "nbformat_minor": 2
}
