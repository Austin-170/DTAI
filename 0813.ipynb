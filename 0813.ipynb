{
 "cells": [
  {
   "cell_type": "code",
   "execution_count": 2,
   "metadata": {},
   "outputs": [
    {
     "name": "stdout",
     "output_type": "stream",
     "text": [
      "及格\n"
     ]
    }
   ],
   "source": [
    "score=int(input())\n",
    "if score>=60:\n",
    "    print(\"及格\")\n",
    "else:\n",
    "    print(\"不及格\")"
   ]
  },
  {
   "cell_type": "code",
   "execution_count": 5,
   "metadata": {},
   "outputs": [
    {
     "name": "stdout",
     "output_type": "stream",
     "text": [
      "密碼錯誤\n"
     ]
    }
   ],
   "source": [
    "password=int(input())\n",
    "if password==1234:\n",
    "    print(\"密碼正確\")\n",
    "else:\n",
    "    print(\"密碼錯誤\")"
   ]
  },
  {
   "cell_type": "code",
   "execution_count": 8,
   "metadata": {},
   "outputs": [
    {
     "name": "stdout",
     "output_type": "stream",
     "text": [
      "不用帶傘\n"
     ]
    }
   ],
   "source": [
    "rain=input(\"今天會下雨嗎\")\n",
    "if rain==\"y\" or rain==\"Y\":\n",
    "    print(\"出門記得帶傘\")\n",
    "else:\n",
    "    print(\"不用帶傘\")"
   ]
  },
  {
   "cell_type": "code",
   "execution_count": 9,
   "metadata": {},
   "outputs": [
    {
     "name": "stdout",
     "output_type": "stream",
     "text": [
      "5 is odd\n"
     ]
    }
   ],
   "source": [
    "number=int(input(\"輸入數字\"))\n",
    "\n",
    "if number<0:\n",
    "    print(\"Input arror\")\n",
    "elif number%2==0:\n",
    "    print(number,\"is even\")\n",
    "else:\n",
    "    print(number,\"is odd\")"
   ]
  },
  {
   "cell_type": "code",
   "execution_count": 11,
   "metadata": {},
   "outputs": [
    {
     "name": "stdout",
     "output_type": "stream",
     "text": [
      "體溫不正常\n"
     ]
    }
   ],
   "source": [
    "oc=float(input(\"輸入體溫\"))\n",
    "if oc>37.5:\n",
    "    print(\"體溫過高\")\n",
    "elif 37.<oc<37.4:\n",
    "    print(\"體溫略高\")\n",
    "elif 36<oc<36.9:\n",
    "    print(\"體溫正常\")\n",
    "else:\n",
    "    print(\"體溫不正常\")"
   ]
  },
  {
   "cell_type": "code",
   "execution_count": 18,
   "metadata": {},
   "outputs": [
    {
     "name": "stdout",
     "output_type": "stream",
     "text": [
      "E\n"
     ]
    }
   ],
   "source": [
    "grates=int(input(\"輸入成績\"))\n",
    "if grates>=90:\n",
    "    print(\"A\")\n",
    "elif 80<=grates<=89:\n",
    "    print(\"B\")\n",
    "elif 70<=grates<=79:\n",
    "    print(\"C\")\n",
    "elif 60<=grates<=69:\n",
    "    print(\"D\")\n",
    "else:\n",
    "    print(\"E\")"
   ]
  },
  {
   "cell_type": "code",
   "execution_count": 23,
   "metadata": {},
   "outputs": [
    {
     "name": "stdout",
     "output_type": "stream",
     "text": [
      "450.0\n"
     ]
    }
   ],
   "source": [
    "total=int(input(\"總金額\"))\n",
    "if total>=1000:\n",
    "    total=total*0.8\n",
    "    print(total)\n",
    "elif 500<=total<1000:\n",
    "    total=total*0.9\n",
    "    print(total)\n",
    "else:\n",
    "    print(total)"
   ]
  },
  {
   "cell_type": "code",
   "execution_count": 25,
   "metadata": {},
   "outputs": [
    {
     "name": "stdout",
     "output_type": "stream",
     "text": [
      "需要立即加油!\n"
     ]
    }
   ],
   "source": [
    "fuel=int(input(\"輸入油量\"))\n",
    "if fuel>=10:\n",
    "    print(\"油量充足\")\n",
    "elif 5<=fuel<10:\n",
    "    print(\"油量不足，建議加油\")\n",
    "else:\n",
    "    print(\"需要立即加油!\")"
   ]
  },
  {
   "cell_type": "code",
   "execution_count": 30,
   "metadata": {},
   "outputs": [
    {
     "name": "stdout",
     "output_type": "stream",
     "text": [
      "900\n"
     ]
    }
   ],
   "source": [
    "amount=int(input(\"輸入轉帳金額\"))\n",
    "if amount>=10000:\n",
    "    print(amount)\n",
    "elif 5000<=amount<10000:\n",
    "    amount-=50\n",
    "    print(amount)\n",
    "elif 1000<=amount<5000:\n",
    "    amount-=100\n",
    "    print(amount)\n",
    "elif 150<=amount<1000:\n",
    "    amount-=150\n",
    "    print(amount)\n",
    "else:\n",
    "    print(\"無法轉帳\")"
   ]
  },
  {
   "cell_type": "code",
   "execution_count": 42,
   "metadata": {},
   "outputs": [
    {
     "name": "stdout",
     "output_type": "stream",
     "text": [
      "0\n",
      "1\n",
      "2\n",
      "3\n",
      "4\n",
      "5\n",
      "6\n",
      "7\n",
      "8\n",
      "9\n"
     ]
    }
   ],
   "source": [
    "number=int(input())\n",
    "for i in range(number):\n",
    "    print(i)"
   ]
  },
  {
   "cell_type": "code",
   "execution_count": 52,
   "metadata": {},
   "outputs": [
    {
     "name": "stdout",
     "output_type": "stream",
     "text": [
      "[0, 1, 2, 3, 4, 5, 6, 7, 8]\n",
      "[1, 2, 3, 4, 5, 6, 7, 8, 9]\n",
      "[1, 3, 5, 7, 9]\n",
      "[10, 8, 6, 4, 2]\n"
     ]
    }
   ],
   "source": [
    "a=range(0,9,1)\n",
    "print(list(a))\n",
    "a=range(1,10,1)\n",
    "print(list(a))\n",
    "a=range(1,11,2)\n",
    "print(list(a))\n",
    "a=range(10,0,-2)\n",
    "print(list(a))"
   ]
  },
  {
   "cell_type": "code",
   "execution_count": 65,
   "metadata": {},
   "outputs": [
    {
     "name": "stdout",
     "output_type": "stream",
     "text": [
      "1\n",
      "2\n",
      "3\n",
      "4\n",
      "5\n",
      "6\n",
      "7\n",
      "8\n",
      "9\n",
      "10\n",
      "11\n",
      "12\n"
     ]
    }
   ],
   "source": [
    "sum=0\n",
    "number=int(input())\n",
    "for i in range(number):\n",
    "    #print(i+1)\n",
    "    sum=sum+i\n",
    "    print(sum)"
   ]
  },
  {
   "cell_type": "code",
   "execution_count": 68,
   "metadata": {},
   "outputs": [
    {
     "name": "stdout",
     "output_type": "stream",
     "text": [
      "1\n",
      "3\n",
      "6\n",
      "10\n",
      "15\n",
      "21\n",
      "28\n",
      "36\n",
      "45\n",
      "55\n",
      "55\n"
     ]
    }
   ],
   "source": [
    "sum=0\n",
    "number=int(input())\n",
    "for i in range(1,number+1):\n",
    "    sum=sum+i\n",
    "    print(sum)\n",
    "print(sum)"
   ]
  },
  {
   "cell_type": "code",
   "execution_count": 70,
   "metadata": {},
   "outputs": [
    {
     "name": "stdout",
     "output_type": "stream",
     "text": [
      "1~ 1 的整數和為 1\n",
      "1~ 2 的整數和為 3\n",
      "1~ 3 的整數和為 6\n",
      "1~ 4 的整數和為 10\n",
      "1~ 5 的整數和為 15\n",
      "1~ 6 的整數和為 21\n",
      "1~ 7 的整數和為 28\n",
      "1~ 8 的整數和為 36\n",
      "1~ 9 的整數和為 45\n",
      "1~ 10 的整數和為 55\n"
     ]
    }
   ],
   "source": [
    "sum=0\n",
    "number=int(input())\n",
    "for i in range(1,number+1):\n",
    "    sum=sum+i\n",
    "    print(\"1~\",i,\"的整數和為\",sum)"
   ]
  },
  {
   "cell_type": "code",
   "execution_count": 71,
   "metadata": {},
   "outputs": [
    {
     "name": "stdout",
     "output_type": "stream",
     "text": [
      "2550\n"
     ]
    }
   ],
   "source": [
    "#偶數和\n",
    "sum=0\n",
    "number=int(input())\n",
    "for i in range(0,number+1,2):\n",
    "    sum=sum+i\n",
    "print(sum)"
   ]
  },
  {
   "cell_type": "code",
   "execution_count": 75,
   "metadata": {},
   "outputs": [
    {
     "name": "stdout",
     "output_type": "stream",
     "text": [
      "10\n",
      "9\n",
      "8\n",
      "7\n",
      "6\n",
      "5\n",
      "4\n",
      "3\n",
      "2\n",
      "1\n",
      "倒數結束\n"
     ]
    }
   ],
   "source": [
    "#倒數顯示\n",
    "for i in range(10,0,-1):\n",
    "    print(i)\n",
    "print(\"倒數結束\")"
   ]
  },
  {
   "cell_type": "code",
   "execution_count": 78,
   "metadata": {},
   "outputs": [
    {
     "name": "stdout",
     "output_type": "stream",
     "text": [
      "1\n",
      "4\n",
      "9\n",
      "16\n",
      "25\n",
      "36\n",
      "49\n",
      "64\n",
      "81\n",
      "100\n"
     ]
    }
   ],
   "source": [
    "#平方數列\n",
    "for i in range(1,11,1):\n",
    "    i=i**2\n",
    "    print(i)"
   ]
  },
  {
   "cell_type": "code",
   "execution_count": 82,
   "metadata": {},
   "outputs": [
    {
     "name": "stdout",
     "output_type": "stream",
     "text": [
      "3\n",
      "7\n",
      "11\n",
      "15\n",
      "19\n",
      "23\n",
      "27\n"
     ]
    }
   ],
   "source": [
    "#等差數列\n",
    "number=int(input())\n",
    "for i in range(3,number,4):\n",
    "    if i<30:\n",
    "        print(i)"
   ]
  },
  {
   "cell_type": "code",
   "execution_count": 85,
   "metadata": {},
   "outputs": [
    {
     "name": "stdout",
     "output_type": "stream",
     "text": [
      "26\n",
      "27\n",
      "28\n",
      "29\n",
      "30\n",
      "31\n",
      "32\n",
      "33\n",
      "34\n",
      "35\n",
      "36\n",
      "37\n",
      "38\n",
      "39\n",
      "40\n",
      "41\n",
      "42\n",
      "43\n",
      "44\n",
      "45\n",
      "46\n",
      "47\n",
      "48\n",
      "49\n",
      "50\n"
     ]
    }
   ],
   "source": [
    "#大於某值\n",
    "number=int(input(\"輸入起始值\"))\n",
    "st=int(input(\"輸入終止值\"))\n",
    "for i in range(number,st+1,1):\n",
    "    if i>25:\n",
    "        print(i)\n"
   ]
  },
  {
   "cell_type": "code",
   "execution_count": 92,
   "metadata": {},
   "outputs": [
    {
     "name": "stdout",
     "output_type": "stream",
     "text": [
      "1+3+5+...+199=15300.0\n"
     ]
    }
   ],
   "source": [
    "isum=0\n",
    "for i in range(1,200,2):\n",
    "    isum+=i\n",
    "print(f'1+3+5+...+199={total}')"
   ]
  },
  {
   "cell_type": "code",
   "execution_count": 97,
   "metadata": {},
   "outputs": [
    {
     "name": "stdout",
     "output_type": "stream",
     "text": [
      "1+3+5+...+99=40050.0\n"
     ]
    }
   ],
   "source": [
    "totsl=0\n",
    "for i in range(100):\n",
    "    total+=i\n",
    "#    print(i)\n",
    "print(f'1+3+5+...+99={total}')"
   ]
  },
  {
   "cell_type": "code",
   "execution_count": 98,
   "metadata": {},
   "outputs": [
    {
     "name": "stdout",
     "output_type": "stream",
     "text": [
      "1+3+5+...+199=40050.0\n"
     ]
    }
   ],
   "source": [
    "isum=0\n",
    "for i in range(1,200,2):\n",
    "    isum+=i\n",
    "print(f'1+3+5+...+199={total}')"
   ]
  },
  {
   "cell_type": "code",
   "execution_count": 101,
   "metadata": {},
   "outputs": [
    {
     "name": "stdout",
     "output_type": "stream",
     "text": [
      "2+3*4-6/2=11.0\n"
     ]
    }
   ],
   "source": [
    "total=2+(3*4)-(6/2)\n",
    "print(f'2+3*4-6/2={total}')"
   ]
  },
  {
   "cell_type": "code",
   "execution_count": 104,
   "metadata": {},
   "outputs": [
    {
     "name": "stdout",
     "output_type": "stream",
     "text": [
      "非閏年\n"
     ]
    }
   ],
   "source": [
    "year=int(input(\"輸入年份\"))\n",
    "if year%4==0 and year%4==0 and year%100!=0 :\n",
    "    print(\"閏年\")\n",
    "else:\n",
    "    print(\"非閏年\")"
   ]
  },
  {
   "cell_type": "code",
   "execution_count": null,
   "metadata": {},
   "outputs": [],
   "source": []
  }
 ],
 "metadata": {
  "kernelspec": {
   "display_name": "Python 3",
   "language": "python",
   "name": "python3"
  },
  "language_info": {
   "codemirror_mode": {
    "name": "ipython",
    "version": 3
   },
   "file_extension": ".py",
   "mimetype": "text/x-python",
   "name": "python",
   "nbconvert_exporter": "python",
   "pygments_lexer": "ipython3",
   "version": "3.12.4"
  }
 },
 "nbformat": 4,
 "nbformat_minor": 2
}
