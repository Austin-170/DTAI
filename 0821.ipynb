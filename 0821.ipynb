{
 "cells": [
  {
   "cell_type": "code",
   "execution_count": 2,
   "metadata": {},
   "outputs": [
    {
     "name": "stdout",
     "output_type": "stream",
     "text": [
      "2000 is leap year\n"
     ]
    }
   ],
   "source": [
    "year=int(input())\n",
    "if year%4==0:\n",
    "    if year%100==0:\n",
    "        if year%400==0:\n",
    "            print(year,\"is leap year\")\n",
    "        else:\n",
    "            print(year,\"is common year\")\n",
    "    else:\n",
    "        print(year,\"is leap year\")\n",
    "else:\n",
    "    print(year,\"is common year\")"
   ]
  },
  {
   "cell_type": "code",
   "execution_count": 3,
   "metadata": {},
   "outputs": [
    {
     "name": "stdout",
     "output_type": "stream",
     "text": [
      "7*1=7 7*2=14 7*3=21 7*4=28 7*5=35 7*6=42 7*7=49 7*8=56 7*9=63 \n",
      "8*1=8 8*2=16 8*3=24 8*4=32 8*5=40 8*6=48 8*7=56 8*8=64 8*9=72 \n",
      "9*1=9 9*2=18 9*3=27 9*4=36 9*5=45 9*6=54 9*7=63 9*8=72 9*9=81 \n",
      "\n"
     ]
    }
   ],
   "source": [
    "num=int(input())\n",
    "for i in range(num,10):\n",
    "    for j in range(1,10):\n",
    "        print(\"%d*%d=%d\"%(i,j,i*j),end=\" \")\n",
    "    print()\n",
    "print()"
   ]
  },
  {
   "cell_type": "code",
   "execution_count": 4,
   "metadata": {},
   "outputs": [
    {
     "name": "stdout",
     "output_type": "stream",
     "text": [
      "01:16:27\n"
     ]
    }
   ],
   "source": [
    "total=int(input())\n",
    "hours=total//3600\n",
    "min=(total%3600)//60\n",
    "sec=total%60\n",
    "time=f\"{hours:02}:{min:02}:{sec:02}\"\n",
    "print(time)"
   ]
  },
  {
   "cell_type": "code",
   "execution_count": 5,
   "metadata": {},
   "outputs": [
    {
     "name": "stdout",
     "output_type": "stream",
     "text": [
      "********\n",
      "total:8\n"
     ]
    }
   ],
   "source": [
    "n=input()\n",
    "a=\"\"\n",
    "for i in range(0,len(n)):\n",
    "    a+=\"*\"\n",
    "print(a)\n",
    "print(\"total:\"+str(len(n)))"
   ]
  },
  {
   "cell_type": "code",
   "execution_count": 6,
   "metadata": {},
   "outputs": [
    {
     "name": "stdout",
     "output_type": "stream",
     "text": [
      "ErTeTrJf\n"
     ]
    }
   ],
   "source": [
    "user=input()\n",
    "transformed=\"\"\n",
    "for i,char in enumerate(user):\n",
    "    if i%2==0:\n",
    "        transformed+=char.upper()\n",
    "    else:\n",
    "        transformed+=char.lower()\n",
    "print(transformed)"
   ]
  },
  {
   "cell_type": "code",
   "execution_count": 7,
   "metadata": {},
   "outputs": [
    {
     "name": "stdout",
     "output_type": "stream",
     "text": [
      "100\n"
     ]
    }
   ],
   "source": [
    "import math\n",
    "n=input()\n",
    "n=n.split()\n",
    "mmm=math.gcd(int(n[0]),int(n[1]))\n",
    "max=abs(int(n[0])*int(n[1])//mmm)\n",
    "print(max)"
   ]
  },
  {
   "cell_type": "code",
   "execution_count": 12,
   "metadata": {},
   "outputs": [
    {
     "name": "stdout",
     "output_type": "stream",
     "text": [
      "54\n"
     ]
    }
   ],
   "source": [
    "num=int(input())\n",
    "sum=0\n",
    "for i in range(15,num+1):\n",
    "    if i%2==0:\n",
    "        sum+=i\n",
    "print(sum)"
   ]
  },
  {
   "cell_type": "code",
   "execution_count": 15,
   "metadata": {},
   "outputs": [
    {
     "name": "stdout",
     "output_type": "stream",
     "text": [
      "Ans 9487\n"
     ]
    }
   ],
   "source": [
    "user=input()\n",
    "print(\"Ans\",user)"
   ]
  },
  {
   "cell_type": "code",
   "execution_count": 23,
   "metadata": {},
   "outputs": [
    {
     "name": "stdout",
     "output_type": "stream",
     "text": [
      "30\n"
     ]
    }
   ],
   "source": [
    "num=input()\n",
    "num.split()\n",
    "sum=0\n",
    "for i in range(0,len(num)):\n",
    "    sum+=int(num[i])\n",
    "print(sum)"
   ]
  },
  {
   "cell_type": "code",
   "execution_count": 25,
   "metadata": {},
   "outputs": [
    {
     "name": "stdout",
     "output_type": "stream",
     "text": [
      "40\n"
     ]
    }
   ],
   "source": [
    "num = input()\n",
    "total_sum = 0\n",
    "for char in num:\n",
    "    if char.isdigit():\n",
    "        total_sum += int(char)\n",
    "print(total_sum)\n"
   ]
  },
  {
   "cell_type": "code",
   "execution_count": 24,
   "metadata": {},
   "outputs": [
    {
     "name": "stdout",
     "output_type": "stream",
     "text": [
      "17\n"
     ]
    }
   ],
   "source": [
    "num=input()\n",
    "num.split()\n",
    "print(len(num))"
   ]
  },
  {
   "cell_type": "code",
   "execution_count": 31,
   "metadata": {},
   "outputs": [
    {
     "name": "stdout",
     "output_type": "stream",
     "text": [
      "0,5,10,15,20,25,30,35,40,45,50,55,60,65,70,75,80,85,90,95,"
     ]
    }
   ],
   "source": [
    "a,b,c=input().split()\n",
    "int_a=int(a)\n",
    "int_b=int(b)\n",
    "int_c=int(c)\n",
    "for i in range(int_a,int_b,int_c):\n",
    "    print(i,end=\",\")"
   ]
  },
  {
   "cell_type": "code",
   "execution_count": 1,
   "metadata": {},
   "outputs": [
    {
     "name": "stdout",
     "output_type": "stream",
     "text": [
      "[3, 4, 5, 6, 7]\n"
     ]
    }
   ],
   "source": [
    "a,b,c=input().split()\n",
    "int_a=int(a)\n",
    "int_b=int(b)\n",
    "int_c=int(c)\n",
    "re_list=list(range(int_a,int_b,int_c))\n",
    "print(re_list)"
   ]
  },
  {
   "cell_type": "code",
   "execution_count": 2,
   "metadata": {},
   "outputs": [
    {
     "name": "stdout",
     "output_type": "stream",
     "text": [
      "Invalid\n"
     ]
    }
   ],
   "source": [
    "a,b,c=input().split()\n",
    "int_a=int(a)\n",
    "int_b=int(b)\n",
    "int_c=int(c)\n",
    "if int_a==int_b or int_b==int_c or int_c==int_a:\n",
    "    print(\"Valid\")\n",
    "else:\n",
    "    print(\"Invalid\")"
   ]
  },
  {
   "cell_type": "code",
   "execution_count": null,
   "metadata": {},
   "outputs": [],
   "source": [
    "time=int(input())#停車時間\n",
    "money=0\n",
    "while time>60:\n",
    "    money+=40*(time//60)\n",
    "    if money>300:\n",
    "        print(\"pay:\"+str(money),\"money\")\n",
    "        break\n"
   ]
  },
  {
   "cell_type": "code",
   "execution_count": 7,
   "metadata": {},
   "outputs": [
    {
     "name": "stdout",
     "output_type": "stream",
     "text": [
      "park time:11h:9m\n",
      "pay:300 money\n"
     ]
    }
   ],
   "source": [
    "time=int(input())#停車時間\n",
    "hours=time//60\n",
    "minute=time%60\n",
    "money=0\n",
    "if hours>0:\n",
    "    money=hours*40\n",
    "    if minute>0:\n",
    "        money+=20\n",
    "else:\n",
    "    money=20\n",
    "if money>300:\n",
    "    money=300\n",
    "print(f\"park time:{hours}h:{minute}m\")\n",
    "print(f\"pay:{money} money\")"
   ]
  },
  {
   "cell_type": "code",
   "execution_count": 9,
   "metadata": {},
   "outputs": [
    {
     "name": "stdout",
     "output_type": "stream",
     "text": [
      "370,371,407,"
     ]
    }
   ],
   "source": [
    "a,b=input().split()\n",
    "int_a=int(a)\n",
    "int_b=int(b)\n",
    "for i in range(int_a,int_b):\n",
    "    if (i//100)**3+((i//10)%10)**3+(i%10)**3==i:\n",
    "        print(i,end=\",\")"
   ]
  },
  {
   "cell_type": "code",
   "execution_count": 13,
   "metadata": {},
   "outputs": [
    {
     "name": "stdout",
     "output_type": "stream",
     "text": [
      "2.5\n"
     ]
    }
   ],
   "source": [
    "a=float(input())\n",
    "b=float(input())\n",
    "c=a%b\n",
    "print(c)"
   ]
  },
  {
   "cell_type": "code",
   "execution_count": null,
   "metadata": {},
   "outputs": [],
   "source": []
  }
 ],
 "metadata": {
  "kernelspec": {
   "display_name": "Python 3",
   "language": "python",
   "name": "python3"
  },
  "language_info": {
   "codemirror_mode": {
    "name": "ipython",
    "version": 3
   },
   "file_extension": ".py",
   "mimetype": "text/x-python",
   "name": "python",
   "nbconvert_exporter": "python",
   "pygments_lexer": "ipython3",
   "version": "3.12.4"
  }
 },
 "nbformat": 4,
 "nbformat_minor": 2
}
