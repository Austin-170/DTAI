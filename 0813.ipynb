{
 "cells": [
  {
   "cell_type": "code",
   "execution_count": 2,
   "metadata": {},
   "outputs": [
    {
     "name": "stdout",
     "output_type": "stream",
     "text": [
      "及格\n"
     ]
    }
   ],
   "source": [
    "score=int(input())\n",
    "if score>=60:\n",
    "    print(\"及格\")\n",
    "else:\n",
    "    print(\"不及格\")"
   ]
  },
  {
   "cell_type": "code",
   "execution_count": 5,
   "metadata": {},
   "outputs": [
    {
     "name": "stdout",
     "output_type": "stream",
     "text": [
      "密碼錯誤\n"
     ]
    }
   ],
   "source": [
    "password=int(input())\n",
    "if password==1234:\n",
    "    print(\"密碼正確\")\n",
    "else:\n",
    "    print(\"密碼錯誤\")"
   ]
  },
  {
   "cell_type": "code",
   "execution_count": 8,
   "metadata": {},
   "outputs": [
    {
     "name": "stdout",
     "output_type": "stream",
     "text": [
      "不用帶傘\n"
     ]
    }
   ],
   "source": [
    "rain=input(\"今天會下雨嗎\")\n",
    "if rain==\"y\" or rain==\"Y\":\n",
    "    print(\"出門記得帶傘\")\n",
    "else:\n",
    "    print(\"不用帶傘\")"
   ]
  },
  {
   "cell_type": "code",
   "execution_count": 9,
   "metadata": {},
   "outputs": [
    {
     "name": "stdout",
     "output_type": "stream",
     "text": [
      "5 is odd\n"
     ]
    }
   ],
   "source": [
    "number=int(input(\"輸入數字\"))\n",
    "\n",
    "if number<0:\n",
    "    print(\"Input arror\")\n",
    "elif number%2==0:\n",
    "    print(number,\"is even\")\n",
    "else:\n",
    "    print(number,\"is odd\")"
   ]
  },
  {
   "cell_type": "code",
   "execution_count": 11,
   "metadata": {},
   "outputs": [
    {
     "name": "stdout",
     "output_type": "stream",
     "text": [
      "體溫不正常\n"
     ]
    }
   ],
   "source": [
    "oc=float(input(\"輸入體溫\"))\n",
    "if oc>37.5:\n",
    "    print(\"體溫過高\")\n",
    "elif 37.<oc<37.4:\n",
    "    print(\"體溫略高\")\n",
    "elif 36<oc<36.9:\n",
    "    print(\"體溫正常\")\n",
    "else:\n",
    "    print(\"體溫不正常\")"
   ]
  },
  {
   "cell_type": "code",
   "execution_count": 18,
   "metadata": {},
   "outputs": [
    {
     "name": "stdout",
     "output_type": "stream",
     "text": [
      "E\n"
     ]
    }
   ],
   "source": [
    "grates=int(input(\"輸入成績\"))\n",
    "if grates>=90:\n",
    "    print(\"A\")\n",
    "elif 80<=grates<=89:\n",
    "    print(\"B\")\n",
    "elif 70<=grates<=79:\n",
    "    print(\"C\")\n",
    "elif 60<=grates<=69:\n",
    "    print(\"D\")\n",
    "else:\n",
    "    print(\"E\")"
   ]
  },
  {
   "cell_type": "code",
   "execution_count": 23,
   "metadata": {},
   "outputs": [
    {
     "name": "stdout",
     "output_type": "stream",
     "text": [
      "450.0\n"
     ]
    }
   ],
   "source": [
    "total=int(input(\"總金額\"))\n",
    "if total>=1000:\n",
    "    total=total*0.8\n",
    "    print(total)\n",
    "elif 500<=total<1000:\n",
    "    total=total*0.9\n",
    "    print(total)\n",
    "else:\n",
    "    print(total)"
   ]
  },
  {
   "cell_type": "code",
   "execution_count": 25,
   "metadata": {},
   "outputs": [
    {
     "name": "stdout",
     "output_type": "stream",
     "text": [
      "需要立即加油!\n"
     ]
    }
   ],
   "source": [
    "fuel=int(input(\"輸入油量\"))\n",
    "if fuel>=10:\n",
    "    print(\"油量充足\")\n",
    "elif 5<=fuel<10:\n",
    "    print(\"油量不足，建議加油\")\n",
    "else:\n",
    "    print(\"需要立即加油!\")"
   ]
  },
  {
   "cell_type": "code",
   "execution_count": 30,
   "metadata": {},
   "outputs": [
    {
     "name": "stdout",
     "output_type": "stream",
     "text": [
      "900\n"
     ]
    }
   ],
   "source": [
    "amount=int(input(\"輸入轉帳金額\"))\n",
    "if amount>=10000:\n",
    "    print(amount)\n",
    "elif 5000<=amount<10000:\n",
    "    amount-=50\n",
    "    print(amount)\n",
    "elif 1000<=amount<5000:\n",
    "    amount-=100\n",
    "    print(amount)\n",
    "elif 150<=amount<1000:\n",
    "    amount-=150\n",
    "    print(amount)\n",
    "else:\n",
    "    print(\"無法轉帳\")"
   ]
  },
  {
   "cell_type": "code",
   "execution_count": null,
   "metadata": {},
   "outputs": [],
   "source": []
  }
 ],
 "metadata": {
  "kernelspec": {
   "display_name": "Python 3",
   "language": "python",
   "name": "python3"
  },
  "language_info": {
   "codemirror_mode": {
    "name": "ipython",
    "version": 3
   },
   "file_extension": ".py",
   "mimetype": "text/x-python",
   "name": "python",
   "nbconvert_exporter": "python",
   "pygments_lexer": "ipython3",
   "version": "3.12.4"
  }
 },
 "nbformat": 4,
 "nbformat_minor": 2
}
