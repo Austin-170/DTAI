{
 "cells": [
  {
   "cell_type": "code",
   "execution_count": 7,
   "metadata": {},
   "outputs": [
    {
     "name": "stdout",
     "output_type": "stream",
     "text": [
      "2.5\n"
     ]
    }
   ],
   "source": [
    "#1.\n",
    "a=float(input())\n",
    "b=float(input())\n",
    "c=a%b\n",
    "print(c)"
   ]
  },
  {
   "cell_type": "code",
   "execution_count": 8,
   "metadata": {},
   "outputs": [
    {
     "name": "stdout",
     "output_type": "stream",
     "text": [
      "153,"
     ]
    }
   ],
   "source": [
    "#10\n",
    "a,b=input().split()\n",
    "int_a=int(a)\n",
    "int_b=int(b)\n",
    "for i in range(int_a,int_b):\n",
    "    if (i//100)**3+((i//10)%10)**3+(i%10)**3==i:\n",
    "        print(i,end=\",\")"
   ]
  },
  {
   "cell_type": "code",
   "execution_count": 5,
   "metadata": {},
   "outputs": [
    {
     "name": "stdout",
     "output_type": "stream",
     "text": [
      "t=9.0 b=14.0 h=8.2 area=94.3\n"
     ]
    }
   ],
   "source": [
    "#2\n",
    "up=float(input())\n",
    "down=float(input())\n",
    "high=float(input())\n",
    "area=(up+down)*high/2\n",
    "#print(\"上底長度為:\",up,\"下底長度為:\",down,\"面積為\",area)\n",
    "print(\"t=\"+str(up)+\" \"+\"b=\"+str(down)+\" \"+\"h=\"+str(high)+\" \"+\"area=\"+str(area))"
   ]
  },
  {
   "cell_type": "code",
   "execution_count": 9,
   "metadata": {},
   "outputs": [
    {
     "name": "stdout",
     "output_type": "stream",
     "text": [
      "park time:11h:9m\n",
      "pay:300 money\n"
     ]
    }
   ],
   "source": [
    "#3\n",
    "time=int(input())#停車時間\n",
    "hours=time//60\n",
    "minute=time%60\n",
    "money=0\n",
    "if hours>0:\n",
    "    money=hours*40\n",
    "    if minute>0:\n",
    "        money+=20\n",
    "else:\n",
    "    money=20\n",
    "if money>300:\n",
    "    money=300\n",
    "print(f\"park time:{hours}h:{minute}m\")\n",
    "print(f\"pay:{money} money\")"
   ]
  },
  {
   "cell_type": "code",
   "execution_count": 13,
   "metadata": {},
   "outputs": [
    {
     "name": "stdout",
     "output_type": "stream",
     "text": [
      "0,5,10,15,20,25,30,35,40,45,50,55,60,65,70,75,80,85,90,95,"
     ]
    }
   ],
   "source": [
    "#7\n",
    "a,b,c=input().split()\n",
    "int_a=int(a)\n",
    "int_b=int(b)\n",
    "int_c=int(c)\n",
    "for i in range(int_a,int_b,int_c):\n",
    "    print(i,end=\",\")"
   ]
  },
  {
   "cell_type": "code",
   "execution_count": 10,
   "metadata": {},
   "outputs": [
    {
     "name": "stdout",
     "output_type": "stream",
     "text": [
      "[3, 4, 5, 6, 7]\n"
     ]
    }
   ],
   "source": [
    "#4\n",
    "a,b,c=input().split()\n",
    "int_a=int(a)\n",
    "int_b=int(b)\n",
    "int_c=int(c)\n",
    "re_list=list(range(int_a,int_b,int_c))\n",
    "print(re_list)"
   ]
  },
  {
   "cell_type": "code",
   "execution_count": 12,
   "metadata": {},
   "outputs": [
    {
     "name": "stdout",
     "output_type": "stream",
     "text": [
      "210 is common year\n"
     ]
    }
   ],
   "source": [
    "#5\n",
    "year=int(input())\n",
    "if year%4==0:\n",
    "    if year%100==0:\n",
    "        if year%400==0:\n",
    "            print(year,\"is leap year\")\n",
    "        else:\n",
    "            print(year,\"is common year\")\n",
    "    else:\n",
    "        print(year,\"is leap year\")\n",
    "else:\n",
    "    print(year,\"is common year\")"
   ]
  },
  {
   "cell_type": "code",
   "execution_count": 18,
   "metadata": {},
   "outputs": [
    {
     "name": "stdout",
     "output_type": "stream",
     "text": [
      "7*1=7 7*2=14 7*3=21 7*4=28 7*5=35 7*6=42 7*7=49 7*8=56 7*9=63 \n",
      "8*1=8 8*2=16 8*3=24 8*4=32 8*5=40 8*6=48 8*7=56 8*8=64 8*9=72 \n",
      "9*1=9 9*2=18 9*3=27 9*4=36 9*5=45 9*6=54 9*7=63 9*8=72 9*9=81 \n",
      "\n"
     ]
    }
   ],
   "source": [
    "#9\n",
    "num=int(input())\n",
    "for i in range(num,10):\n",
    "    for j in range(1,10):\n",
    "        print(\"%d*%d=%d\"%(i,j,i*j),end=\" \")\n",
    "    print()\n",
    "print()"
   ]
  },
  {
   "cell_type": "code",
   "execution_count": 20,
   "metadata": {},
   "outputs": [
    {
     "name": "stdout",
     "output_type": "stream",
     "text": [
      "*\n",
      "**\n",
      "***\n"
     ]
    }
   ],
   "source": [
    "#8\n",
    "n=int(input())\n",
    "for i in range(1,n+1):\n",
    "    print(\"*\"*i)"
   ]
  },
  {
   "cell_type": "code",
   "execution_count": 21,
   "metadata": {},
   "outputs": [
    {
     "name": "stdout",
     "output_type": "stream",
     "text": [
      "-4 is error\n"
     ]
    }
   ],
   "source": [
    "#6\n",
    "grade=int(input())\n",
    "if grade>100:\n",
    "    print(grade,\"is error\")\n",
    "elif 90<=grade<=100:\n",
    "    print(grade,\"is A\")\n",
    "elif 80<=grade<=89:\n",
    "    print(grade,\"is B\")\n",
    "elif 70<=grade<=79:\n",
    "    print(grade,\"is C\")\n",
    "elif 60<=grade<=69:\n",
    "    print(grade,\"is D\")\n",
    "elif 0<=grade<=59:\n",
    "    print(grade,\"is E\")\n",
    "else:\n",
    "    print(grade,\"is error\")"
   ]
  },
  {
   "cell_type": "code",
   "execution_count": null,
   "metadata": {},
   "outputs": [],
   "source": []
  }
 ],
 "metadata": {
  "kernelspec": {
   "display_name": "Python 3",
   "language": "python",
   "name": "python3"
  },
  "language_info": {
   "codemirror_mode": {
    "name": "ipython",
    "version": 3
   },
   "file_extension": ".py",
   "mimetype": "text/x-python",
   "name": "python",
   "nbconvert_exporter": "python",
   "pygments_lexer": "ipython3",
   "version": "3.12.4"
  }
 },
 "nbformat": 4,
 "nbformat_minor": 2
}
