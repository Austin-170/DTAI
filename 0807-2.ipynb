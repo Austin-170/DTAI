{
 "cells": [
  {
   "cell_type": "code",
   "execution_count": null,
   "metadata": {},
   "outputs": [],
   "source": [
    "a,b,c=1,2,3\n",
    "print(a,b,c)\n",
    "print([a,b,c])\n",
    "print(a,[b,c])"
   ]
  },
  {
   "cell_type": "code",
   "execution_count": 1,
   "metadata": {},
   "outputs": [
    {
     "name": "stdout",
     "output_type": "stream",
     "text": [
      "<class 'int'>\n"
     ]
    }
   ],
   "source": [
    "c=8\n",
    "print(type(c))"
   ]
  },
  {
   "cell_type": "code",
   "execution_count": 2,
   "metadata": {},
   "outputs": [
    {
     "name": "stdout",
     "output_type": "stream",
     "text": [
      "<class 'bool'>\n",
      "<class 'float'>\n",
      "<class 'str'>\n"
     ]
    }
   ],
   "source": [
    "print(type(True))\n",
    "print(type(5.1))\n",
    "print(type(\"hello\"))"
   ]
  },
  {
   "cell_type": "code",
   "execution_count": 3,
   "metadata": {},
   "outputs": [
    {
     "name": "stdout",
     "output_type": "stream",
     "text": [
      "3\n"
     ]
    }
   ],
   "source": [
    "num1=3.8\n",
    "num2=int(num1)\n",
    "print(num2)\n"
   ]
  },
  {
   "cell_type": "code",
   "execution_count": 12,
   "metadata": {},
   "outputs": [
    {
     "name": "stdout",
     "output_type": "stream",
     "text": [
      "Hey hi hello\n",
      "Hey_hi_hello\n",
      "Hey\n",
      "hi\n",
      "hello\n",
      "hey\n",
      "hi\n",
      "hello\n"
     ]
    }
   ],
   "source": [
    "print(\"Hey\",\"hi\",\"hello\")\n",
    "print(\"Hey\",\"hi\",\"hello\",sep=\"_\")\n",
    "print(\"Hey\",\"hi\",\"hello\",sep=\"\\n\")\n",
    "print(\"hey\"+\"\\n\"+\"hi\"+\"\\n\"+\"hello\")"
   ]
  },
  {
   "cell_type": "code",
   "execution_count": 16,
   "metadata": {},
   "outputs": [
    {
     "name": "stdout",
     "output_type": "stream",
     "text": [
      "5\n",
      "<class 'int'>\n"
     ]
    }
   ],
   "source": [
    "test=int(input(\"輸入\"))\n",
    "print(test)\n",
    "print(type(test))"
   ]
  },
  {
   "cell_type": "code",
   "execution_count": 23,
   "metadata": {},
   "outputs": [
    {
     "name": "stdout",
     "output_type": "stream",
     "text": [
      "你的國文為 50\n",
      "你的英文總分為 60\n",
      "你的數學總分為 70\n",
      "你的總分為: 180\n"
     ]
    }
   ],
   "source": [
    "chinese=int(input(\"輸入國文成績\"))\n",
    "math=int(input(\"輸入數學成績\"))\n",
    "english=int(input(\"輸入英文成績\"))\n",
    "print(\"你的國文為\",chinese)\n",
    "print(\"你的英文總分為\",english)\n",
    "print(\"你的數學總分為\",math)\n",
    "print(\"你的總分為:\",chinese+math+english)"
   ]
  },
  {
   "cell_type": "code",
   "execution_count": 24,
   "metadata": {},
   "outputs": [
    {
     "name": "stdout",
     "output_type": "stream",
     "text": [
      "長為 5 寬為 4 面積為 20\n"
     ]
    }
   ],
   "source": [
    "lengh=int(input(\"輸入長\"))\n",
    "width=int(input(\"輸入寬\"))\n",
    "print(\"長為\",lengh,\"寬為\",width,\"面積為\",lengh*width)"
   ]
  },
  {
   "cell_type": "code",
   "execution_count": null,
   "metadata": {},
   "outputs": [],
   "source": []
  }
 ],
 "metadata": {
  "kernelspec": {
   "display_name": "Python 3",
   "language": "python",
   "name": "python3"
  },
  "language_info": {
   "codemirror_mode": {
    "name": "ipython",
    "version": 3
   },
   "file_extension": ".py",
   "mimetype": "text/x-python",
   "name": "python",
   "nbconvert_exporter": "python",
   "pygments_lexer": "ipython3",
   "version": "3.12.4"
  }
 },
 "nbformat": 4,
 "nbformat_minor": 2
}
