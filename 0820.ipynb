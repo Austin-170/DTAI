{
 "cells": [
  {
   "cell_type": "code",
   "execution_count": 5,
   "metadata": {},
   "outputs": [
    {
     "name": "stdout",
     "output_type": "stream",
     "text": [
      "[1, 3, 5, 7, 9]\n"
     ]
    }
   ],
   "source": [
    "a=range(1,10,2)\n",
    "print(list(a))"
   ]
  },
  {
   "cell_type": "code",
   "execution_count": 7,
   "metadata": {},
   "outputs": [
    {
     "name": "stdout",
     "output_type": "stream",
     "text": [
      "[1, 2, 3, 4, 5]\n"
     ]
    }
   ],
   "source": [
    "list1=[1,2,3,4,5]\n",
    "print(list)"
   ]
  },
  {
   "cell_type": "code",
   "execution_count": 8,
   "metadata": {},
   "outputs": [
    {
     "name": "stdout",
     "output_type": "stream",
     "text": [
      "['香蕉', '蘋果']\n"
     ]
    }
   ],
   "source": [
    "list2=[\"香蕉\",\"蘋果\"]\n",
    "print(list2)"
   ]
  },
  {
   "cell_type": "code",
   "execution_count": 9,
   "metadata": {},
   "outputs": [
    {
     "name": "stdout",
     "output_type": "stream",
     "text": [
      "[1, '香蕉', True]\n"
     ]
    }
   ],
   "source": [
    "list3=[1,\"香蕉\",True]\n",
    "print(list3)"
   ]
  },
  {
   "cell_type": "code",
   "execution_count": 11,
   "metadata": {},
   "outputs": [
    {
     "name": "stdout",
     "output_type": "stream",
     "text": [
      "1\n",
      "香蕉\n",
      "True\n"
     ]
    }
   ],
   "source": [
    "print(list3[0])\n",
    "print(list3[1])\n",
    "print(list3[2])"
   ]
  },
  {
   "cell_type": "code",
   "execution_count": 17,
   "metadata": {},
   "outputs": [
    {
     "name": "stdout",
     "output_type": "stream",
     "text": [
      "[['tom', '1234']]\n",
      "['tom', '1234']\n",
      "1234\n",
      "['david', '5678']\n",
      "5678\n"
     ]
    }
   ],
   "source": [
    "list4=[[\"tom\",\"1234\"]],[\"marcy\",\"abcd\"],[\"david\",\"5678\"]\n",
    "print(list4[0])\n",
    "print(list4[0][0])\n",
    "print(list4[0][0][1])\n",
    "print(list4[2])\n",
    "print(list4[2][1])"
   ]
  },
  {
   "cell_type": "code",
   "execution_count": 18,
   "metadata": {},
   "outputs": [
    {
     "name": "stdout",
     "output_type": "stream",
     "text": [
      "國文成績為 85\n",
      "數學成績為 79\n",
      "英文成績為 93\n"
     ]
    }
   ],
   "source": [
    "list=[85,79,93]\n",
    "print(\"國文成績為\",list[0])\n",
    "print(\"數學成績為\",list[1])\n",
    "print(\"英文成績為\",list[2])"
   ]
  },
  {
   "cell_type": "code",
   "execution_count": 20,
   "metadata": {},
   "outputs": [
    {
     "name": "stdout",
     "output_type": "stream",
     "text": [
      "國文成績為 85\n",
      "數學成績為 79\n",
      "英文成績為 93\n"
     ]
    }
   ],
   "source": [
    "d=input(\"國文成績\")\n",
    "b=input(\"數學成績\")\n",
    "c=input(\"英文成績\")\n",
    "list=[d,b,c]\n",
    "print(\"國文成績為\",list[0])\n",
    "print(\"數學成績為\",list[1])\n",
    "print(\"英文成績為\",list[2])"
   ]
  },
  {
   "cell_type": "code",
   "execution_count": 21,
   "metadata": {},
   "outputs": [
    {
     "name": "stdout",
     "output_type": "stream",
     "text": [
      "香蕉,蘋果,橘子,"
     ]
    }
   ],
   "source": [
    "list=list2=[\"香蕉\",\"蘋果\",\"橘子\"]\n",
    "for i in list:\n",
    "    print(i,end=\",\")"
   ]
  },
  {
   "cell_type": "code",
   "execution_count": 22,
   "metadata": {},
   "outputs": [
    {
     "name": "stdout",
     "output_type": "stream",
     "text": [
      "3\n"
     ]
    }
   ],
   "source": [
    "score=[85,79,93]\n",
    "print(len(score))"
   ]
  },
  {
   "cell_type": "code",
   "execution_count": 24,
   "metadata": {},
   "outputs": [
    {
     "name": "stdout",
     "output_type": "stream",
     "text": [
      "85\n",
      "79\n",
      "93\n"
     ]
    }
   ],
   "source": [
    "score=[85,79,93]\n",
    "for i in range(len(score)):\n",
    "    print(score[i])"
   ]
  },
  {
   "cell_type": "code",
   "execution_count": 32,
   "metadata": {},
   "outputs": [
    {
     "name": "stdout",
     "output_type": "stream",
     "text": [
      "姓名: Tom 國文成績: 85\n",
      "姓名: Mary 數學成績: 79\n",
      "姓名: Tony 英文成績: 93\n"
     ]
    }
   ],
   "source": [
    "name=[\"Tom\",\"Mary\",\"Tony\"]\n",
    "score=[85,79,93]\n",
    "ob=[\"國文成績:\",\"數學成績:\",\"英文成績:\"]\n",
    "for i in range(len(name)):\n",
    "    print(\"姓名:\",name[i],ob[i],score[i])\n"
   ]
  },
  {
   "cell_type": "code",
   "execution_count": 92,
   "metadata": {},
   "outputs": [
    {
     "name": "stdout",
     "output_type": "stream",
     "text": [
      "['1', '2', '3']\n",
      "3 2 1 "
     ]
    }
   ],
   "source": [
    "list=str(input())\n",
    "list=list.split()\n",
    "for i in range(1,len(list)+1):\n",
    "    print(list[-i],end=\" \")\n"
   ]
  },
  {
   "cell_type": "code",
   "execution_count": 110,
   "metadata": {},
   "outputs": [
    {
     "name": "stdout",
     "output_type": "stream",
     "text": [
      "0,5,10,15,20,25,30,35,40,45,50,55,60,65,70,75,80,85,90,95,"
     ]
    }
   ],
   "source": [
    "list=str(input())\n",
    "list=list.split()\n",
    "for i in range(int(list[0]),int(list[1]),int(list[2])):\n",
    "    print(i,end=\",\")"
   ]
  },
  {
   "cell_type": "code",
   "execution_count": null,
   "metadata": {},
   "outputs": [],
   "source": []
  }
 ],
 "metadata": {
  "kernelspec": {
   "display_name": "Python 3",
   "language": "python",
   "name": "python3"
  },
  "language_info": {
   "codemirror_mode": {
    "name": "ipython",
    "version": 3
   },
   "file_extension": ".py",
   "mimetype": "text/x-python",
   "name": "python",
   "nbconvert_exporter": "python",
   "pygments_lexer": "ipython3",
   "version": "3.12.4"
  }
 },
 "nbformat": 4,
 "nbformat_minor": 2
}
